{
 "cells": [
  {
   "cell_type": "code",
   "execution_count": 1,
   "metadata": {},
   "outputs": [],
   "source": [
    "import pandas as pd"
   ]
  },
  {
   "cell_type": "code",
   "execution_count": 4,
   "metadata": {},
   "outputs": [
    {
     "data": {
      "text/html": [
       "<div>\n",
       "<style scoped>\n",
       "    .dataframe tbody tr th:only-of-type {\n",
       "        vertical-align: middle;\n",
       "    }\n",
       "\n",
       "    .dataframe tbody tr th {\n",
       "        vertical-align: top;\n",
       "    }\n",
       "\n",
       "    .dataframe thead th {\n",
       "        text-align: right;\n",
       "    }\n",
       "</style>\n",
       "<table border=\"1\" class=\"dataframe\">\n",
       "  <thead>\n",
       "    <tr style=\"text-align: right;\">\n",
       "      <th></th>\n",
       "      <th>Rank</th>\n",
       "      <th>Country</th>\n",
       "      <th>Liters of pure alcohol consumed per capita</th>\n",
       "    </tr>\n",
       "  </thead>\n",
       "  <tbody>\n",
       "    <tr>\n",
       "      <th>0</th>\n",
       "      <td>1</td>\n",
       "      <td>Belarus</td>\n",
       "      <td>17.5</td>\n",
       "    </tr>\n",
       "    <tr>\n",
       "      <th>1</th>\n",
       "      <td>2</td>\n",
       "      <td>Moldova</td>\n",
       "      <td>16.8</td>\n",
       "    </tr>\n",
       "    <tr>\n",
       "      <th>2</th>\n",
       "      <td>3</td>\n",
       "      <td>Lithuania</td>\n",
       "      <td>15.4</td>\n",
       "    </tr>\n",
       "    <tr>\n",
       "      <th>3</th>\n",
       "      <td>4</td>\n",
       "      <td>Russia</td>\n",
       "      <td>15.1</td>\n",
       "    </tr>\n",
       "    <tr>\n",
       "      <th>4</th>\n",
       "      <td>5</td>\n",
       "      <td>Romania</td>\n",
       "      <td>14.4</td>\n",
       "    </tr>\n",
       "    <tr>\n",
       "      <th>5</th>\n",
       "      <td>6</td>\n",
       "      <td>Ukraine</td>\n",
       "      <td>13.9</td>\n",
       "    </tr>\n",
       "    <tr>\n",
       "      <th>6</th>\n",
       "      <td>7</td>\n",
       "      <td>Andorra</td>\n",
       "      <td>13.8</td>\n",
       "    </tr>\n",
       "    <tr>\n",
       "      <th>7</th>\n",
       "      <td>8</td>\n",
       "      <td>Hungary</td>\n",
       "      <td>13.3</td>\n",
       "    </tr>\n",
       "    <tr>\n",
       "      <th>8</th>\n",
       "      <td>9</td>\n",
       "      <td>Czech Republic</td>\n",
       "      <td>13.0</td>\n",
       "    </tr>\n",
       "    <tr>\n",
       "      <th>9</th>\n",
       "      <td>10</td>\n",
       "      <td>Slovakia</td>\n",
       "      <td>13.0</td>\n",
       "    </tr>\n",
       "  </tbody>\n",
       "</table>\n",
       "</div>"
      ],
      "text/plain": [
       "   Rank         Country  Liters of pure alcohol consumed per capita\n",
       "0     1         Belarus                                        17.5\n",
       "1     2         Moldova                                        16.8\n",
       "2     3       Lithuania                                        15.4\n",
       "3     4          Russia                                        15.1\n",
       "4     5         Romania                                        14.4\n",
       "5     6         Ukraine                                        13.9\n",
       "6     7         Andorra                                        13.8\n",
       "7     8         Hungary                                        13.3\n",
       "8     9  Czech Republic                                        13.0\n",
       "9    10        Slovakia                                        13.0"
      ]
     },
     "execution_count": 4,
     "metadata": {},
     "output_type": "execute_result"
    }
   ],
   "source": [
    "dados = pd.read_csv('Alcohol.csv')\n",
    "dados.head(10)"
   ]
  },
  {
   "cell_type": "code",
   "execution_count": 5,
   "metadata": {},
   "outputs": [
    {
     "data": {
      "text/plain": [
       "pandas.core.frame.DataFrame"
      ]
     },
     "execution_count": 5,
     "metadata": {},
     "output_type": "execute_result"
    }
   ],
   "source": [
    "type(dados)"
   ]
  },
  {
   "cell_type": "code",
   "execution_count": 6,
   "metadata": {},
   "outputs": [
    {
     "name": "stdout",
     "output_type": "stream",
     "text": [
      "<class 'pandas.core.frame.DataFrame'>\n",
      "RangeIndex: 25 entries, 0 to 24\n",
      "Data columns (total 3 columns):\n",
      "Rank                                          25 non-null int64\n",
      "Country                                       25 non-null object\n",
      "Liters of pure alcohol consumed per capita    25 non-null float64\n",
      "dtypes: float64(1), int64(1), object(1)\n",
      "memory usage: 680.0+ bytes\n"
     ]
    }
   ],
   "source": [
    "dados.info()"
   ]
  },
  {
   "cell_type": "code",
   "execution_count": 10,
   "metadata": {},
   "outputs": [
    {
     "data": {
      "text/html": [
       "<div>\n",
       "<style scoped>\n",
       "    .dataframe tbody tr th:only-of-type {\n",
       "        vertical-align: middle;\n",
       "    }\n",
       "\n",
       "    .dataframe tbody tr th {\n",
       "        vertical-align: top;\n",
       "    }\n",
       "\n",
       "    .dataframe thead th {\n",
       "        text-align: right;\n",
       "    }\n",
       "</style>\n",
       "<table border=\"1\" class=\"dataframe\">\n",
       "  <thead>\n",
       "    <tr style=\"text-align: right;\">\n",
       "      <th></th>\n",
       "      <th>Rank</th>\n",
       "      <th>Liters of pure alcohol consumed per capita</th>\n",
       "    </tr>\n",
       "  </thead>\n",
       "  <tbody>\n",
       "    <tr>\n",
       "      <th>count</th>\n",
       "      <td>25.000000</td>\n",
       "      <td>25.000000</td>\n",
       "    </tr>\n",
       "    <tr>\n",
       "      <th>mean</th>\n",
       "      <td>13.000000</td>\n",
       "      <td>13.160000</td>\n",
       "    </tr>\n",
       "    <tr>\n",
       "      <th>std</th>\n",
       "      <td>7.359801</td>\n",
       "      <td>1.575331</td>\n",
       "    </tr>\n",
       "    <tr>\n",
       "      <th>min</th>\n",
       "      <td>1.000000</td>\n",
       "      <td>11.600000</td>\n",
       "    </tr>\n",
       "    <tr>\n",
       "      <th>25%</th>\n",
       "      <td>7.000000</td>\n",
       "      <td>12.200000</td>\n",
       "    </tr>\n",
       "    <tr>\n",
       "      <th>50%</th>\n",
       "      <td>13.000000</td>\n",
       "      <td>12.500000</td>\n",
       "    </tr>\n",
       "    <tr>\n",
       "      <th>75%</th>\n",
       "      <td>19.000000</td>\n",
       "      <td>13.800000</td>\n",
       "    </tr>\n",
       "    <tr>\n",
       "      <th>max</th>\n",
       "      <td>25.000000</td>\n",
       "      <td>17.500000</td>\n",
       "    </tr>\n",
       "  </tbody>\n",
       "</table>\n",
       "</div>"
      ],
      "text/plain": [
       "            Rank  Liters of pure alcohol consumed per capita\n",
       "count  25.000000                                   25.000000\n",
       "mean   13.000000                                   13.160000\n",
       "std     7.359801                                    1.575331\n",
       "min     1.000000                                   11.600000\n",
       "25%     7.000000                                   12.200000\n",
       "50%    13.000000                                   12.500000\n",
       "75%    19.000000                                   13.800000\n",
       "max    25.000000                                   17.500000"
      ]
     },
     "execution_count": 10,
     "metadata": {},
     "output_type": "execute_result"
    }
   ],
   "source": [
    "dados.describe()"
   ]
  },
  {
   "cell_type": "code",
   "execution_count": 7,
   "metadata": {},
   "outputs": [
    {
     "data": {
      "text/plain": [
       "(25, 3)"
      ]
     },
     "execution_count": 7,
     "metadata": {},
     "output_type": "execute_result"
    }
   ],
   "source": [
    "dados.shape"
   ]
  },
  {
   "cell_type": "code",
   "execution_count": 8,
   "metadata": {},
   "outputs": [
    {
     "data": {
      "text/plain": [
       "RangeIndex(start=0, stop=25, step=1)"
      ]
     },
     "execution_count": 8,
     "metadata": {},
     "output_type": "execute_result"
    }
   ],
   "source": [
    "dados.index"
   ]
  },
  {
   "cell_type": "code",
   "execution_count": 9,
   "metadata": {},
   "outputs": [
    {
     "data": {
      "text/plain": [
       "Rank                                          25\n",
       "Country                                       25\n",
       "Liters of pure alcohol consumed per capita    25\n",
       "dtype: int64"
      ]
     },
     "execution_count": 9,
     "metadata": {},
     "output_type": "execute_result"
    }
   ],
   "source": [
    "dados.count()"
   ]
  },
  {
   "cell_type": "code",
   "execution_count": 11,
   "metadata": {},
   "outputs": [
    {
     "data": {
      "text/plain": [
       "Rank                                                                                        325\n",
       "Country                                       BelarusMoldovaLithuaniaRussiaRomaniaUkraineAnd...\n",
       "Liters of pure alcohol consumed per capita                                                  329\n",
       "dtype: object"
      ]
     },
     "execution_count": 11,
     "metadata": {},
     "output_type": "execute_result"
    }
   ],
   "source": [
    "dados.sum()"
   ]
  },
  {
   "cell_type": "code",
   "execution_count": 15,
   "metadata": {},
   "outputs": [
    {
     "data": {
      "text/plain": [
       "329.0"
      ]
     },
     "execution_count": 15,
     "metadata": {},
     "output_type": "execute_result"
    }
   ],
   "source": [
    "dados['Liters of pure alcohol consumed per capita'].sum()"
   ]
  },
  {
   "cell_type": "code",
   "execution_count": 16,
   "metadata": {},
   "outputs": [
    {
     "data": {
      "text/plain": [
       "Rank                                          13.00\n",
       "Liters of pure alcohol consumed per capita    13.16\n",
       "dtype: float64"
      ]
     },
     "execution_count": 16,
     "metadata": {},
     "output_type": "execute_result"
    }
   ],
   "source": [
    "dados.mean()"
   ]
  },
  {
   "cell_type": "code",
   "execution_count": 17,
   "metadata": {},
   "outputs": [
    {
     "data": {
      "text/plain": [
       "13.16"
      ]
     },
     "execution_count": 17,
     "metadata": {},
     "output_type": "execute_result"
    }
   ],
   "source": [
    "dados['Liters of pure alcohol consumed per capita'].mean()"
   ]
  },
  {
   "cell_type": "code",
   "execution_count": 18,
   "metadata": {},
   "outputs": [
    {
     "data": {
      "text/plain": [
       "Rank                                          7.359801\n",
       "Liters of pure alcohol consumed per capita    1.575331\n",
       "dtype: float64"
      ]
     },
     "execution_count": 18,
     "metadata": {},
     "output_type": "execute_result"
    }
   ],
   "source": [
    "dados.std()"
   ]
  },
  {
   "cell_type": "code",
   "execution_count": 19,
   "metadata": {},
   "outputs": [
    {
     "data": {
      "text/plain": [
       "1.575330653122279"
      ]
     },
     "execution_count": 19,
     "metadata": {},
     "output_type": "execute_result"
    }
   ],
   "source": [
    "dados['Liters of pure alcohol consumed per capita'].std()"
   ]
  },
  {
   "cell_type": "code",
   "execution_count": 20,
   "metadata": {},
   "outputs": [
    {
     "data": {
      "text/plain": [
       "Rank                                                1\n",
       "Country                                       Andorra\n",
       "Liters of pure alcohol consumed per capita       11.6\n",
       "dtype: object"
      ]
     },
     "execution_count": 20,
     "metadata": {},
     "output_type": "execute_result"
    }
   ],
   "source": [
    "dados.min()"
   ]
  },
  {
   "cell_type": "code",
   "execution_count": 21,
   "metadata": {},
   "outputs": [
    {
     "data": {
      "text/plain": [
       "11.6"
      ]
     },
     "execution_count": 21,
     "metadata": {},
     "output_type": "execute_result"
    }
   ],
   "source": [
    "dados['Liters of pure alcohol consumed per capita'].min()"
   ]
  },
  {
   "cell_type": "code",
   "execution_count": 22,
   "metadata": {},
   "outputs": [
    {
     "data": {
      "text/plain": [
       "Rank                                                      25\n",
       "Country                                       United Kingdom\n",
       "Liters of pure alcohol consumed per capita              17.5\n",
       "dtype: object"
      ]
     },
     "execution_count": 22,
     "metadata": {},
     "output_type": "execute_result"
    }
   ],
   "source": [
    "dados.max()"
   ]
  },
  {
   "cell_type": "code",
   "execution_count": 23,
   "metadata": {},
   "outputs": [
    {
     "data": {
      "text/plain": [
       "17.5"
      ]
     },
     "execution_count": 23,
     "metadata": {},
     "output_type": "execute_result"
    }
   ],
   "source": [
    "dados['Liters of pure alcohol consumed per capita'].max()"
   ]
  },
  {
   "cell_type": "code",
   "execution_count": 24,
   "metadata": {},
   "outputs": [
    {
     "data": {
      "text/plain": [
       "Rank                                          13.0\n",
       "Liters of pure alcohol consumed per capita    12.5\n",
       "dtype: float64"
      ]
     },
     "execution_count": 24,
     "metadata": {},
     "output_type": "execute_result"
    }
   ],
   "source": [
    "dados.median()"
   ]
  },
  {
   "cell_type": "code",
   "execution_count": 25,
   "metadata": {},
   "outputs": [
    {
     "data": {
      "text/plain": [
       "12.5"
      ]
     },
     "execution_count": 25,
     "metadata": {},
     "output_type": "execute_result"
    }
   ],
   "source": [
    "dados['Liters of pure alcohol consumed per capita'].median()"
   ]
  },
  {
   "cell_type": "code",
   "execution_count": 28,
   "metadata": {},
   "outputs": [],
   "source": [
    "dados['Chave'] = dados['Rank'].map(str) + \" - \" + dados.Country"
   ]
  },
  {
   "cell_type": "code",
   "execution_count": 29,
   "metadata": {},
   "outputs": [
    {
     "data": {
      "text/html": [
       "<div>\n",
       "<style scoped>\n",
       "    .dataframe tbody tr th:only-of-type {\n",
       "        vertical-align: middle;\n",
       "    }\n",
       "\n",
       "    .dataframe tbody tr th {\n",
       "        vertical-align: top;\n",
       "    }\n",
       "\n",
       "    .dataframe thead th {\n",
       "        text-align: right;\n",
       "    }\n",
       "</style>\n",
       "<table border=\"1\" class=\"dataframe\">\n",
       "  <thead>\n",
       "    <tr style=\"text-align: right;\">\n",
       "      <th></th>\n",
       "      <th>Rank</th>\n",
       "      <th>Country</th>\n",
       "      <th>Liters of pure alcohol consumed per capita</th>\n",
       "      <th>Chave</th>\n",
       "    </tr>\n",
       "  </thead>\n",
       "  <tbody>\n",
       "    <tr>\n",
       "      <th>0</th>\n",
       "      <td>1</td>\n",
       "      <td>Belarus</td>\n",
       "      <td>17.5</td>\n",
       "      <td>1 - Belarus</td>\n",
       "    </tr>\n",
       "    <tr>\n",
       "      <th>1</th>\n",
       "      <td>2</td>\n",
       "      <td>Moldova</td>\n",
       "      <td>16.8</td>\n",
       "      <td>2 - Moldova</td>\n",
       "    </tr>\n",
       "    <tr>\n",
       "      <th>2</th>\n",
       "      <td>3</td>\n",
       "      <td>Lithuania</td>\n",
       "      <td>15.4</td>\n",
       "      <td>3 - Lithuania</td>\n",
       "    </tr>\n",
       "    <tr>\n",
       "      <th>3</th>\n",
       "      <td>4</td>\n",
       "      <td>Russia</td>\n",
       "      <td>15.1</td>\n",
       "      <td>4 - Russia</td>\n",
       "    </tr>\n",
       "    <tr>\n",
       "      <th>4</th>\n",
       "      <td>5</td>\n",
       "      <td>Romania</td>\n",
       "      <td>14.4</td>\n",
       "      <td>5 - Romania</td>\n",
       "    </tr>\n",
       "    <tr>\n",
       "      <th>5</th>\n",
       "      <td>6</td>\n",
       "      <td>Ukraine</td>\n",
       "      <td>13.9</td>\n",
       "      <td>6 - Ukraine</td>\n",
       "    </tr>\n",
       "    <tr>\n",
       "      <th>6</th>\n",
       "      <td>7</td>\n",
       "      <td>Andorra</td>\n",
       "      <td>13.8</td>\n",
       "      <td>7 - Andorra</td>\n",
       "    </tr>\n",
       "    <tr>\n",
       "      <th>7</th>\n",
       "      <td>8</td>\n",
       "      <td>Hungary</td>\n",
       "      <td>13.3</td>\n",
       "      <td>8 - Hungary</td>\n",
       "    </tr>\n",
       "    <tr>\n",
       "      <th>8</th>\n",
       "      <td>9</td>\n",
       "      <td>Czech Republic</td>\n",
       "      <td>13.0</td>\n",
       "      <td>9 - Czech Republic</td>\n",
       "    </tr>\n",
       "    <tr>\n",
       "      <th>9</th>\n",
       "      <td>10</td>\n",
       "      <td>Slovakia</td>\n",
       "      <td>13.0</td>\n",
       "      <td>10 - Slovakia</td>\n",
       "    </tr>\n",
       "  </tbody>\n",
       "</table>\n",
       "</div>"
      ],
      "text/plain": [
       "   Rank         Country  Liters of pure alcohol consumed per capita  \\\n",
       "0     1         Belarus                                        17.5   \n",
       "1     2         Moldova                                        16.8   \n",
       "2     3       Lithuania                                        15.4   \n",
       "3     4          Russia                                        15.1   \n",
       "4     5         Romania                                        14.4   \n",
       "5     6         Ukraine                                        13.9   \n",
       "6     7         Andorra                                        13.8   \n",
       "7     8         Hungary                                        13.3   \n",
       "8     9  Czech Republic                                        13.0   \n",
       "9    10        Slovakia                                        13.0   \n",
       "\n",
       "                Chave  \n",
       "0         1 - Belarus  \n",
       "1         2 - Moldova  \n",
       "2       3 - Lithuania  \n",
       "3          4 - Russia  \n",
       "4         5 - Romania  \n",
       "5         6 - Ukraine  \n",
       "6         7 - Andorra  \n",
       "7         8 - Hungary  \n",
       "8  9 - Czech Republic  \n",
       "9       10 - Slovakia  "
      ]
     },
     "execution_count": 29,
     "metadata": {},
     "output_type": "execute_result"
    }
   ],
   "source": [
    "dados.head(10)"
   ]
  },
  {
   "cell_type": "code",
   "execution_count": 30,
   "metadata": {},
   "outputs": [
    {
     "data": {
      "text/html": [
       "<div>\n",
       "<style scoped>\n",
       "    .dataframe tbody tr th:only-of-type {\n",
       "        vertical-align: middle;\n",
       "    }\n",
       "\n",
       "    .dataframe tbody tr th {\n",
       "        vertical-align: top;\n",
       "    }\n",
       "\n",
       "    .dataframe thead th {\n",
       "        text-align: right;\n",
       "    }\n",
       "</style>\n",
       "<table border=\"1\" class=\"dataframe\">\n",
       "  <thead>\n",
       "    <tr style=\"text-align: right;\">\n",
       "      <th></th>\n",
       "      <th>Rank</th>\n",
       "      <th>Country</th>\n",
       "      <th>Liters of pure alcohol consumed per capita</th>\n",
       "      <th>Chave</th>\n",
       "      <th>Teste</th>\n",
       "    </tr>\n",
       "  </thead>\n",
       "  <tbody>\n",
       "    <tr>\n",
       "      <th>0</th>\n",
       "      <td>1</td>\n",
       "      <td>Belarus</td>\n",
       "      <td>17.5</td>\n",
       "      <td>1 - Belarus</td>\n",
       "      <td>Teste</td>\n",
       "    </tr>\n",
       "    <tr>\n",
       "      <th>1</th>\n",
       "      <td>2</td>\n",
       "      <td>Moldova</td>\n",
       "      <td>16.8</td>\n",
       "      <td>2 - Moldova</td>\n",
       "      <td>Teste</td>\n",
       "    </tr>\n",
       "    <tr>\n",
       "      <th>2</th>\n",
       "      <td>3</td>\n",
       "      <td>Lithuania</td>\n",
       "      <td>15.4</td>\n",
       "      <td>3 - Lithuania</td>\n",
       "      <td>Teste</td>\n",
       "    </tr>\n",
       "    <tr>\n",
       "      <th>3</th>\n",
       "      <td>4</td>\n",
       "      <td>Russia</td>\n",
       "      <td>15.1</td>\n",
       "      <td>4 - Russia</td>\n",
       "      <td>Teste</td>\n",
       "    </tr>\n",
       "    <tr>\n",
       "      <th>4</th>\n",
       "      <td>5</td>\n",
       "      <td>Romania</td>\n",
       "      <td>14.4</td>\n",
       "      <td>5 - Romania</td>\n",
       "      <td>Teste</td>\n",
       "    </tr>\n",
       "  </tbody>\n",
       "</table>\n",
       "</div>"
      ],
      "text/plain": [
       "   Rank    Country  Liters of pure alcohol consumed per capita          Chave  \\\n",
       "0     1    Belarus                                        17.5    1 - Belarus   \n",
       "1     2    Moldova                                        16.8    2 - Moldova   \n",
       "2     3  Lithuania                                        15.4  3 - Lithuania   \n",
       "3     4     Russia                                        15.1     4 - Russia   \n",
       "4     5    Romania                                        14.4    5 - Romania   \n",
       "\n",
       "   Teste  \n",
       "0  Teste  \n",
       "1  Teste  \n",
       "2  Teste  \n",
       "3  Teste  \n",
       "4  Teste  "
      ]
     },
     "execution_count": 30,
     "metadata": {},
     "output_type": "execute_result"
    }
   ],
   "source": [
    "dados['Teste'] = 'Teste'\n",
    "dados.head()"
   ]
  },
  {
   "cell_type": "code",
   "execution_count": 31,
   "metadata": {},
   "outputs": [
    {
     "data": {
      "text/plain": [
       "0     Testando\n",
       "1     Testando\n",
       "2     Testando\n",
       "3     Testando\n",
       "4     Testando\n",
       "5     Testando\n",
       "6     Testando\n",
       "7     Testando\n",
       "8     Testando\n",
       "9     Testando\n",
       "10    Testando\n",
       "11    Testando\n",
       "12    Testando\n",
       "13    Testando\n",
       "14    Testando\n",
       "15    Testando\n",
       "16    Testando\n",
       "17    Testando\n",
       "18    Testando\n",
       "19    Testando\n",
       "20    Testando\n",
       "21    Testando\n",
       "22    Testando\n",
       "23    Testando\n",
       "24    Testando\n",
       "Name: Teste, dtype: object"
      ]
     },
     "execution_count": 31,
     "metadata": {},
     "output_type": "execute_result"
    }
   ],
   "source": [
    "dados.Teste.apply(lambda x: x.replace('Teste', 'Testando'))"
   ]
  },
  {
   "cell_type": "code",
   "execution_count": 32,
   "metadata": {},
   "outputs": [
    {
     "data": {
      "text/plain": [
       "24    11.6\n",
       "23    11.6\n",
       "22    11.8\n",
       "21    11.9\n",
       "20    11.9\n",
       "19    12.2\n",
       "18    12.2\n",
       "17    12.2\n",
       "16    12.3\n",
       "15    12.3\n",
       "14    12.3\n",
       "13    12.5\n",
       "12    12.5\n",
       "11    12.6\n",
       "10    12.9\n",
       "9     13.0\n",
       "8     13.0\n",
       "7     13.3\n",
       "6     13.8\n",
       "5     13.9\n",
       "4     14.4\n",
       "3     15.1\n",
       "2     15.4\n",
       "1     16.8\n",
       "0     17.5\n",
       "Name: Liters of pure alcohol consumed per capita, dtype: float64"
      ]
     },
     "execution_count": 32,
     "metadata": {},
     "output_type": "execute_result"
    }
   ],
   "source": [
    "dados['Liters of pure alcohol consumed per capita'].sort_values()"
   ]
  },
  {
   "cell_type": "code",
   "execution_count": 33,
   "metadata": {},
   "outputs": [
    {
     "data": {
      "text/plain": [
       "0     17.5\n",
       "1     16.8\n",
       "2     15.4\n",
       "3     15.1\n",
       "4     14.4\n",
       "5     13.9\n",
       "6     13.8\n",
       "7     13.3\n",
       "8     13.0\n",
       "9     13.0\n",
       "10    12.9\n",
       "11    12.6\n",
       "12    12.5\n",
       "13    12.5\n",
       "14    12.3\n",
       "15    12.3\n",
       "16    12.3\n",
       "17    12.2\n",
       "18    12.2\n",
       "19    12.2\n",
       "20    11.9\n",
       "21    11.9\n",
       "22    11.8\n",
       "23    11.6\n",
       "24    11.6\n",
       "Name: Liters of pure alcohol consumed per capita, dtype: float64"
      ]
     },
     "execution_count": 33,
     "metadata": {},
     "output_type": "execute_result"
    }
   ],
   "source": [
    "dados['Liters of pure alcohol consumed per capita'].sort_values(ascending=False)"
   ]
  },
  {
   "cell_type": "code",
   "execution_count": 34,
   "metadata": {},
   "outputs": [
    {
     "data": {
      "text/plain": [
       "0     10000017.5\n",
       "1     10000016.8\n",
       "2     10000015.4\n",
       "3     10000015.1\n",
       "4     10000014.4\n",
       "5     10000013.9\n",
       "6     10000013.8\n",
       "7     10000013.3\n",
       "8     10000013.0\n",
       "9     10000013.0\n",
       "10    10000012.9\n",
       "11    10000012.6\n",
       "12    10000012.5\n",
       "13    10000012.5\n",
       "14    10000012.3\n",
       "15    10000012.3\n",
       "16    10000012.3\n",
       "17    10000012.2\n",
       "18    10000012.2\n",
       "19    10000012.2\n",
       "20    10000011.9\n",
       "21    10000011.9\n",
       "22    10000011.8\n",
       "23    10000011.6\n",
       "24    10000011.6\n",
       "Name: Liters of pure alcohol consumed per capita, dtype: float64"
      ]
     },
     "execution_count": 34,
     "metadata": {},
     "output_type": "execute_result"
    }
   ],
   "source": [
    "dados['Liters of pure alcohol consumed per capita'].add(10000000)"
   ]
  },
  {
   "cell_type": "code",
   "execution_count": 35,
   "metadata": {},
   "outputs": [
    {
     "data": {
      "text/plain": [
       "0    -9999982.5\n",
       "1    -9999983.2\n",
       "2    -9999984.6\n",
       "3    -9999984.9\n",
       "4    -9999985.6\n",
       "5    -9999986.1\n",
       "6    -9999986.2\n",
       "7    -9999986.7\n",
       "8    -9999987.0\n",
       "9    -9999987.0\n",
       "10   -9999987.1\n",
       "11   -9999987.4\n",
       "12   -9999987.5\n",
       "13   -9999987.5\n",
       "14   -9999987.7\n",
       "15   -9999987.7\n",
       "16   -9999987.7\n",
       "17   -9999987.8\n",
       "18   -9999987.8\n",
       "19   -9999987.8\n",
       "20   -9999988.1\n",
       "21   -9999988.1\n",
       "22   -9999988.2\n",
       "23   -9999988.4\n",
       "24   -9999988.4\n",
       "Name: Liters of pure alcohol consumed per capita, dtype: float64"
      ]
     },
     "execution_count": 35,
     "metadata": {},
     "output_type": "execute_result"
    }
   ],
   "source": [
    "dados['Liters of pure alcohol consumed per capita'].sub(10000000)"
   ]
  },
  {
   "cell_type": "code",
   "execution_count": 36,
   "metadata": {},
   "outputs": [
    {
     "data": {
      "text/plain": [
       "0     175000000.0\n",
       "1     168000000.0\n",
       "2     154000000.0\n",
       "3     151000000.0\n",
       "4     144000000.0\n",
       "5     139000000.0\n",
       "6     138000000.0\n",
       "7     133000000.0\n",
       "8     130000000.0\n",
       "9     130000000.0\n",
       "10    129000000.0\n",
       "11    126000000.0\n",
       "12    125000000.0\n",
       "13    125000000.0\n",
       "14    123000000.0\n",
       "15    123000000.0\n",
       "16    123000000.0\n",
       "17    122000000.0\n",
       "18    122000000.0\n",
       "19    122000000.0\n",
       "20    119000000.0\n",
       "21    119000000.0\n",
       "22    118000000.0\n",
       "23    116000000.0\n",
       "24    116000000.0\n",
       "Name: Liters of pure alcohol consumed per capita, dtype: float64"
      ]
     },
     "execution_count": 36,
     "metadata": {},
     "output_type": "execute_result"
    }
   ],
   "source": [
    "dados['Liters of pure alcohol consumed per capita'].mul(10000000)"
   ]
  },
  {
   "cell_type": "code",
   "execution_count": 37,
   "metadata": {},
   "outputs": [
    {
     "data": {
      "text/plain": [
       "0     0.000002\n",
       "1     0.000002\n",
       "2     0.000002\n",
       "3     0.000002\n",
       "4     0.000001\n",
       "5     0.000001\n",
       "6     0.000001\n",
       "7     0.000001\n",
       "8     0.000001\n",
       "9     0.000001\n",
       "10    0.000001\n",
       "11    0.000001\n",
       "12    0.000001\n",
       "13    0.000001\n",
       "14    0.000001\n",
       "15    0.000001\n",
       "16    0.000001\n",
       "17    0.000001\n",
       "18    0.000001\n",
       "19    0.000001\n",
       "20    0.000001\n",
       "21    0.000001\n",
       "22    0.000001\n",
       "23    0.000001\n",
       "24    0.000001\n",
       "Name: Liters of pure alcohol consumed per capita, dtype: float64"
      ]
     },
     "execution_count": 37,
     "metadata": {},
     "output_type": "execute_result"
    }
   ],
   "source": [
    "dados['Liters of pure alcohol consumed per capita'].div(10000000)"
   ]
  },
  {
   "cell_type": "code",
   "execution_count": 39,
   "metadata": {},
   "outputs": [
    {
     "data": {
      "text/html": [
       "<div>\n",
       "<style scoped>\n",
       "    .dataframe tbody tr th:only-of-type {\n",
       "        vertical-align: middle;\n",
       "    }\n",
       "\n",
       "    .dataframe tbody tr th {\n",
       "        vertical-align: top;\n",
       "    }\n",
       "\n",
       "    .dataframe thead th {\n",
       "        text-align: right;\n",
       "    }\n",
       "</style>\n",
       "<table border=\"1\" class=\"dataframe\">\n",
       "  <thead>\n",
       "    <tr style=\"text-align: right;\">\n",
       "      <th></th>\n",
       "      <th>Rank</th>\n",
       "      <th>Country</th>\n",
       "      <th>Liters of pure alcohol consumed per capita</th>\n",
       "      <th>Chave</th>\n",
       "      <th>Teste</th>\n",
       "    </tr>\n",
       "  </thead>\n",
       "  <tbody>\n",
       "    <tr>\n",
       "      <th>1</th>\n",
       "      <td>2</td>\n",
       "      <td>Moldova</td>\n",
       "      <td>16.8</td>\n",
       "      <td>2 - Moldova</td>\n",
       "      <td>Teste</td>\n",
       "    </tr>\n",
       "    <tr>\n",
       "      <th>3</th>\n",
       "      <td>4</td>\n",
       "      <td>Russia</td>\n",
       "      <td>15.1</td>\n",
       "      <td>4 - Russia</td>\n",
       "      <td>Teste</td>\n",
       "    </tr>\n",
       "    <tr>\n",
       "      <th>5</th>\n",
       "      <td>6</td>\n",
       "      <td>Ukraine</td>\n",
       "      <td>13.9</td>\n",
       "      <td>6 - Ukraine</td>\n",
       "      <td>Teste</td>\n",
       "    </tr>\n",
       "    <tr>\n",
       "      <th>7</th>\n",
       "      <td>8</td>\n",
       "      <td>Hungary</td>\n",
       "      <td>13.3</td>\n",
       "      <td>8 - Hungary</td>\n",
       "      <td>Teste</td>\n",
       "    </tr>\n",
       "    <tr>\n",
       "      <th>9</th>\n",
       "      <td>10</td>\n",
       "      <td>Slovakia</td>\n",
       "      <td>13.0</td>\n",
       "      <td>10 - Slovakia</td>\n",
       "      <td>Teste</td>\n",
       "    </tr>\n",
       "    <tr>\n",
       "      <th>11</th>\n",
       "      <td>12</td>\n",
       "      <td>Serbia</td>\n",
       "      <td>12.6</td>\n",
       "      <td>12 - Serbia</td>\n",
       "      <td>Teste</td>\n",
       "    </tr>\n",
       "    <tr>\n",
       "      <th>13</th>\n",
       "      <td>14</td>\n",
       "      <td>Poland</td>\n",
       "      <td>12.5</td>\n",
       "      <td>14 - Poland</td>\n",
       "      <td>Teste</td>\n",
       "    </tr>\n",
       "    <tr>\n",
       "      <th>15</th>\n",
       "      <td>16</td>\n",
       "      <td>Finland</td>\n",
       "      <td>12.3</td>\n",
       "      <td>16 - Finland</td>\n",
       "      <td>Teste</td>\n",
       "    </tr>\n",
       "    <tr>\n",
       "      <th>17</th>\n",
       "      <td>18</td>\n",
       "      <td>France</td>\n",
       "      <td>12.2</td>\n",
       "      <td>18 - France</td>\n",
       "      <td>Teste</td>\n",
       "    </tr>\n",
       "    <tr>\n",
       "      <th>19</th>\n",
       "      <td>20</td>\n",
       "      <td>Croatia</td>\n",
       "      <td>12.2</td>\n",
       "      <td>20 - Croatia</td>\n",
       "      <td>Teste</td>\n",
       "    </tr>\n",
       "    <tr>\n",
       "      <th>21</th>\n",
       "      <td>22</td>\n",
       "      <td>Luxembourg</td>\n",
       "      <td>11.9</td>\n",
       "      <td>22 - Luxembourg</td>\n",
       "      <td>Teste</td>\n",
       "    </tr>\n",
       "    <tr>\n",
       "      <th>23</th>\n",
       "      <td>24</td>\n",
       "      <td>Slovenia</td>\n",
       "      <td>11.6</td>\n",
       "      <td>24 - Slovenia</td>\n",
       "      <td>Teste</td>\n",
       "    </tr>\n",
       "  </tbody>\n",
       "</table>\n",
       "</div>"
      ],
      "text/plain": [
       "    Rank     Country  Liters of pure alcohol consumed per capita  \\\n",
       "1      2     Moldova                                        16.8   \n",
       "3      4      Russia                                        15.1   \n",
       "5      6     Ukraine                                        13.9   \n",
       "7      8     Hungary                                        13.3   \n",
       "9     10    Slovakia                                        13.0   \n",
       "11    12      Serbia                                        12.6   \n",
       "13    14      Poland                                        12.5   \n",
       "15    16     Finland                                        12.3   \n",
       "17    18      France                                        12.2   \n",
       "19    20     Croatia                                        12.2   \n",
       "21    22  Luxembourg                                        11.9   \n",
       "23    24    Slovenia                                        11.6   \n",
       "\n",
       "              Chave  Teste  \n",
       "1       2 - Moldova  Teste  \n",
       "3        4 - Russia  Teste  \n",
       "5       6 - Ukraine  Teste  \n",
       "7       8 - Hungary  Teste  \n",
       "9     10 - Slovakia  Teste  \n",
       "11      12 - Serbia  Teste  \n",
       "13      14 - Poland  Teste  \n",
       "15     16 - Finland  Teste  \n",
       "17      18 - France  Teste  \n",
       "19     20 - Croatia  Teste  \n",
       "21  22 - Luxembourg  Teste  \n",
       "23    24 - Slovenia  Teste  "
      ]
     },
     "execution_count": 39,
     "metadata": {},
     "output_type": "execute_result"
    }
   ],
   "source": [
    "dados[dados['Rank'] % 2 == 0]"
   ]
  },
  {
   "cell_type": "code",
   "execution_count": 40,
   "metadata": {},
   "outputs": [
    {
     "data": {
      "text/plain": [
       "array(['Belarus', 'Moldova', 'Lithuania', 'Russia', 'Romania', 'Ukraine',\n",
       "       'Andorra', 'Hungary', 'Czech Republic', 'Slovakia', 'Portugal',\n",
       "       'Serbia', 'Grenada', 'Poland', 'Latvia', 'Finland', 'South Korea',\n",
       "       'France', 'Australia', 'Croatia', 'Ireland', 'Luxembourg',\n",
       "       'Germany', 'Slovenia', 'United Kingdom'], dtype=object)"
      ]
     },
     "execution_count": 40,
     "metadata": {},
     "output_type": "execute_result"
    }
   ],
   "source": [
    "dados['Country'].unique()"
   ]
  },
  {
   "cell_type": "code",
   "execution_count": 41,
   "metadata": {},
   "outputs": [
    {
     "data": {
      "text/plain": [
       "25"
      ]
     },
     "execution_count": 41,
     "metadata": {},
     "output_type": "execute_result"
    }
   ],
   "source": [
    "dados['Country'].nunique()"
   ]
  },
  {
   "cell_type": "code",
   "execution_count": 56,
   "metadata": {},
   "outputs": [
    {
     "data": {
      "text/plain": [
       "South Korea       1\n",
       "Australia         1\n",
       "United Kingdom    1\n",
       "Lithuania         1\n",
       "Ukraine           1\n",
       "Finland           1\n",
       "Luxembourg        1\n",
       "Romania           1\n",
       "Belarus           1\n",
       "Slovakia          1\n",
       "Andorra           1\n",
       "France            1\n",
       "Ireland           1\n",
       "Serbia            1\n",
       "Russia            1\n",
       "Moldova           1\n",
       "Slovenia          1\n",
       "Germany           1\n",
       "Latvia            1\n",
       "Hungary           1\n",
       "Czech Republic    1\n",
       "Portugal          1\n",
       "Croatia           1\n",
       "Grenada           1\n",
       "Poland            1\n",
       "Name: Country, dtype: int64"
      ]
     },
     "execution_count": 56,
     "metadata": {},
     "output_type": "execute_result"
    }
   ],
   "source": [
    "dados.Country.value_counts()"
   ]
  },
  {
   "cell_type": "code",
   "execution_count": 55,
   "metadata": {},
   "outputs": [
    {
     "data": {
      "text/html": [
       "<div>\n",
       "<style scoped>\n",
       "    .dataframe tbody tr th:only-of-type {\n",
       "        vertical-align: middle;\n",
       "    }\n",
       "\n",
       "    .dataframe tbody tr th {\n",
       "        vertical-align: top;\n",
       "    }\n",
       "\n",
       "    .dataframe thead th {\n",
       "        text-align: right;\n",
       "    }\n",
       "</style>\n",
       "<table border=\"1\" class=\"dataframe\">\n",
       "  <thead>\n",
       "    <tr style=\"text-align: right;\">\n",
       "      <th></th>\n",
       "      <th>Rank</th>\n",
       "      <th>Country</th>\n",
       "      <th>Liters of pure alcohol consumed per capita</th>\n",
       "      <th>Chave</th>\n",
       "      <th>Teste</th>\n",
       "    </tr>\n",
       "  </thead>\n",
       "  <tbody>\n",
       "    <tr>\n",
       "      <th>0</th>\n",
       "      <td>False</td>\n",
       "      <td>False</td>\n",
       "      <td>False</td>\n",
       "      <td>False</td>\n",
       "      <td>False</td>\n",
       "    </tr>\n",
       "    <tr>\n",
       "      <th>1</th>\n",
       "      <td>False</td>\n",
       "      <td>False</td>\n",
       "      <td>False</td>\n",
       "      <td>False</td>\n",
       "      <td>False</td>\n",
       "    </tr>\n",
       "    <tr>\n",
       "      <th>2</th>\n",
       "      <td>False</td>\n",
       "      <td>False</td>\n",
       "      <td>False</td>\n",
       "      <td>False</td>\n",
       "      <td>False</td>\n",
       "    </tr>\n",
       "    <tr>\n",
       "      <th>3</th>\n",
       "      <td>False</td>\n",
       "      <td>False</td>\n",
       "      <td>False</td>\n",
       "      <td>False</td>\n",
       "      <td>False</td>\n",
       "    </tr>\n",
       "    <tr>\n",
       "      <th>4</th>\n",
       "      <td>False</td>\n",
       "      <td>False</td>\n",
       "      <td>False</td>\n",
       "      <td>False</td>\n",
       "      <td>False</td>\n",
       "    </tr>\n",
       "    <tr>\n",
       "      <th>5</th>\n",
       "      <td>False</td>\n",
       "      <td>False</td>\n",
       "      <td>False</td>\n",
       "      <td>False</td>\n",
       "      <td>False</td>\n",
       "    </tr>\n",
       "    <tr>\n",
       "      <th>6</th>\n",
       "      <td>False</td>\n",
       "      <td>False</td>\n",
       "      <td>False</td>\n",
       "      <td>False</td>\n",
       "      <td>False</td>\n",
       "    </tr>\n",
       "    <tr>\n",
       "      <th>7</th>\n",
       "      <td>False</td>\n",
       "      <td>False</td>\n",
       "      <td>False</td>\n",
       "      <td>False</td>\n",
       "      <td>False</td>\n",
       "    </tr>\n",
       "    <tr>\n",
       "      <th>8</th>\n",
       "      <td>False</td>\n",
       "      <td>False</td>\n",
       "      <td>False</td>\n",
       "      <td>False</td>\n",
       "      <td>False</td>\n",
       "    </tr>\n",
       "    <tr>\n",
       "      <th>9</th>\n",
       "      <td>False</td>\n",
       "      <td>False</td>\n",
       "      <td>False</td>\n",
       "      <td>False</td>\n",
       "      <td>False</td>\n",
       "    </tr>\n",
       "    <tr>\n",
       "      <th>10</th>\n",
       "      <td>False</td>\n",
       "      <td>False</td>\n",
       "      <td>False</td>\n",
       "      <td>False</td>\n",
       "      <td>False</td>\n",
       "    </tr>\n",
       "    <tr>\n",
       "      <th>11</th>\n",
       "      <td>False</td>\n",
       "      <td>False</td>\n",
       "      <td>False</td>\n",
       "      <td>False</td>\n",
       "      <td>False</td>\n",
       "    </tr>\n",
       "    <tr>\n",
       "      <th>12</th>\n",
       "      <td>False</td>\n",
       "      <td>False</td>\n",
       "      <td>False</td>\n",
       "      <td>False</td>\n",
       "      <td>False</td>\n",
       "    </tr>\n",
       "    <tr>\n",
       "      <th>13</th>\n",
       "      <td>False</td>\n",
       "      <td>False</td>\n",
       "      <td>False</td>\n",
       "      <td>False</td>\n",
       "      <td>False</td>\n",
       "    </tr>\n",
       "    <tr>\n",
       "      <th>14</th>\n",
       "      <td>False</td>\n",
       "      <td>False</td>\n",
       "      <td>False</td>\n",
       "      <td>False</td>\n",
       "      <td>False</td>\n",
       "    </tr>\n",
       "    <tr>\n",
       "      <th>15</th>\n",
       "      <td>False</td>\n",
       "      <td>False</td>\n",
       "      <td>False</td>\n",
       "      <td>False</td>\n",
       "      <td>False</td>\n",
       "    </tr>\n",
       "    <tr>\n",
       "      <th>16</th>\n",
       "      <td>False</td>\n",
       "      <td>False</td>\n",
       "      <td>False</td>\n",
       "      <td>False</td>\n",
       "      <td>False</td>\n",
       "    </tr>\n",
       "    <tr>\n",
       "      <th>17</th>\n",
       "      <td>False</td>\n",
       "      <td>False</td>\n",
       "      <td>False</td>\n",
       "      <td>False</td>\n",
       "      <td>False</td>\n",
       "    </tr>\n",
       "    <tr>\n",
       "      <th>18</th>\n",
       "      <td>False</td>\n",
       "      <td>False</td>\n",
       "      <td>False</td>\n",
       "      <td>False</td>\n",
       "      <td>False</td>\n",
       "    </tr>\n",
       "    <tr>\n",
       "      <th>19</th>\n",
       "      <td>False</td>\n",
       "      <td>False</td>\n",
       "      <td>False</td>\n",
       "      <td>False</td>\n",
       "      <td>False</td>\n",
       "    </tr>\n",
       "    <tr>\n",
       "      <th>20</th>\n",
       "      <td>False</td>\n",
       "      <td>False</td>\n",
       "      <td>False</td>\n",
       "      <td>False</td>\n",
       "      <td>False</td>\n",
       "    </tr>\n",
       "    <tr>\n",
       "      <th>21</th>\n",
       "      <td>False</td>\n",
       "      <td>False</td>\n",
       "      <td>False</td>\n",
       "      <td>False</td>\n",
       "      <td>False</td>\n",
       "    </tr>\n",
       "    <tr>\n",
       "      <th>22</th>\n",
       "      <td>False</td>\n",
       "      <td>False</td>\n",
       "      <td>False</td>\n",
       "      <td>False</td>\n",
       "      <td>False</td>\n",
       "    </tr>\n",
       "    <tr>\n",
       "      <th>23</th>\n",
       "      <td>False</td>\n",
       "      <td>False</td>\n",
       "      <td>False</td>\n",
       "      <td>False</td>\n",
       "      <td>False</td>\n",
       "    </tr>\n",
       "    <tr>\n",
       "      <th>24</th>\n",
       "      <td>False</td>\n",
       "      <td>False</td>\n",
       "      <td>False</td>\n",
       "      <td>False</td>\n",
       "      <td>False</td>\n",
       "    </tr>\n",
       "  </tbody>\n",
       "</table>\n",
       "</div>"
      ],
      "text/plain": [
       "     Rank  Country  Liters of pure alcohol consumed per capita  Chave  Teste\n",
       "0   False    False                                       False  False  False\n",
       "1   False    False                                       False  False  False\n",
       "2   False    False                                       False  False  False\n",
       "3   False    False                                       False  False  False\n",
       "4   False    False                                       False  False  False\n",
       "5   False    False                                       False  False  False\n",
       "6   False    False                                       False  False  False\n",
       "7   False    False                                       False  False  False\n",
       "8   False    False                                       False  False  False\n",
       "9   False    False                                       False  False  False\n",
       "10  False    False                                       False  False  False\n",
       "11  False    False                                       False  False  False\n",
       "12  False    False                                       False  False  False\n",
       "13  False    False                                       False  False  False\n",
       "14  False    False                                       False  False  False\n",
       "15  False    False                                       False  False  False\n",
       "16  False    False                                       False  False  False\n",
       "17  False    False                                       False  False  False\n",
       "18  False    False                                       False  False  False\n",
       "19  False    False                                       False  False  False\n",
       "20  False    False                                       False  False  False\n",
       "21  False    False                                       False  False  False\n",
       "22  False    False                                       False  False  False\n",
       "23  False    False                                       False  False  False\n",
       "24  False    False                                       False  False  False"
      ]
     },
     "execution_count": 55,
     "metadata": {},
     "output_type": "execute_result"
    }
   ],
   "source": [
    "dados.isnull()"
   ]
  },
  {
   "cell_type": "code",
   "execution_count": 62,
   "metadata": {},
   "outputs": [
    {
     "data": {
      "text/html": [
       "<div>\n",
       "<style scoped>\n",
       "    .dataframe tbody tr th:only-of-type {\n",
       "        vertical-align: middle;\n",
       "    }\n",
       "\n",
       "    .dataframe tbody tr th {\n",
       "        vertical-align: top;\n",
       "    }\n",
       "\n",
       "    .dataframe thead th {\n",
       "        text-align: right;\n",
       "    }\n",
       "</style>\n",
       "<table border=\"1\" class=\"dataframe\">\n",
       "  <thead>\n",
       "    <tr style=\"text-align: right;\">\n",
       "      <th></th>\n",
       "      <th>min</th>\n",
       "      <th>max</th>\n",
       "      <th>sum</th>\n",
       "    </tr>\n",
       "    <tr>\n",
       "      <th>Teste</th>\n",
       "      <th></th>\n",
       "      <th></th>\n",
       "      <th></th>\n",
       "    </tr>\n",
       "  </thead>\n",
       "  <tbody>\n",
       "    <tr>\n",
       "      <th>Teste</th>\n",
       "      <td>11.6</td>\n",
       "      <td>17.5</td>\n",
       "      <td>329.0</td>\n",
       "    </tr>\n",
       "  </tbody>\n",
       "</table>\n",
       "</div>"
      ],
      "text/plain": [
       "        min   max    sum\n",
       "Teste                   \n",
       "Teste  11.6  17.5  329.0"
      ]
     },
     "execution_count": 62,
     "metadata": {},
     "output_type": "execute_result"
    }
   ],
   "source": [
    "dados.groupby(['Teste'])['Liters of pure alcohol consumed per capita'].agg([min, max, sum])"
   ]
  },
  {
   "cell_type": "code",
   "execution_count": null,
   "metadata": {},
   "outputs": [],
   "source": []
  },
  {
   "cell_type": "code",
   "execution_count": null,
   "metadata": {},
   "outputs": [],
   "source": []
  },
  {
   "cell_type": "code",
   "execution_count": null,
   "metadata": {},
   "outputs": [],
   "source": []
  }
 ],
 "metadata": {
  "kernelspec": {
   "display_name": "Python 3",
   "language": "python",
   "name": "python3"
  },
  "language_info": {
   "codemirror_mode": {
    "name": "ipython",
    "version": 3
   },
   "file_extension": ".py",
   "mimetype": "text/x-python",
   "name": "python",
   "nbconvert_exporter": "python",
   "pygments_lexer": "ipython3",
   "version": "3.6.5"
  }
 },
 "nbformat": 4,
 "nbformat_minor": 2
}
